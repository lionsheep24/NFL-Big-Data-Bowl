{
 "cells": [
  {
   "cell_type": "markdown",
   "metadata": {},
   "source": [
    "# Top Performers\n",
    "- 1st place : https://www.kaggle.com/c/nfl-big-data-bowl-2020/discussion/119400#latest-684411\n",
    "- 2nd place : https://www.kaggle.com/c/nfl-big-data-bowl-2020/discussion/119484\n",
    "- 3rd place : https://www.kaggle.com/c/nfl-big-data-bowl-2020/discussion/119314#latest-684448\n",
    "- 4th place : https://www.kaggle.com/c/nfl-big-data-bowl-2020/discussion/121397\n",
    "- 5th place : https://www.kaggle.com/c/nfl-big-data-bowl-2020/discussion/119357#latest-684386\n",
    "- 7th place : https://www.kaggle.com/c/nfl-big-data-bowl-2020/discussion/119433\n",
    "- 8th place : https://www.kaggle.com/c/nfl-big-data-bowl-2020/discussion/119508\n",
    "- 9th place : https://www.kaggle.com/c/nfl-big-data-bowl-2020/discussion/119508\n",
    "- 13th place : https://www.kaggle.com/c/nfl-big-data-bowl-2020/discussion/119395#latest-683963"
   ]
  },
  {
   "cell_type": "markdown",
   "metadata": {},
   "source": [
    "# What Wored Well\n",
    "## - Future position of players : based on A, S, dir\n",
    "        - 가속도,속도 데이터를 기반으로 선수들의 미래 위치를 모델에 입력값으로 준다,(Feature Engineering)\n",
    "## - Try CNN (Fed by grouped data) : More complex network\n",
    "        - 특성별로 그룹된 데이터를 Conv-Pool 하며 정보 전달\n",
    "## - Data Augmentation (TTA, Flip)\n",
    "        - 플레이별로 선수 위치를 반전시켜 Augmentation\n",
    "## - GNN\n",
    "        - 그래프 기반의 NN \n",
    "        - 성분들간의 다양한 관계를 잘 반영할 수 있는 모델.\n",
    "        "
   ]
  },
  {
   "cell_type": "code",
   "execution_count": null,
   "metadata": {},
   "outputs": [],
   "source": []
  }
 ],
 "metadata": {
  "kernelspec": {
   "display_name": "Python 3",
   "language": "python",
   "name": "python3"
  },
  "language_info": {
   "codemirror_mode": {
    "name": "ipython",
    "version": 3
   },
   "file_extension": ".py",
   "mimetype": "text/x-python",
   "name": "python",
   "nbconvert_exporter": "python",
   "pygments_lexer": "ipython3",
   "version": "3.7.1"
  }
 },
 "nbformat": 4,
 "nbformat_minor": 2
}
